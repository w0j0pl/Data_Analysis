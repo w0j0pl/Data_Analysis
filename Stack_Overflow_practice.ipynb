{
 "cells": [
  {
   "cell_type": "code",
   "execution_count": 3,
   "id": "9800086c",
   "metadata": {},
   "outputs": [
    {
     "name": "stdout",
     "output_type": "stream",
     "text": [
      "Requirement already satisfied: kaggle in c:\\users\\user\\anaconda3\\lib\\site-packages (1.5.16)\n",
      "Requirement already satisfied: six>=1.10 in c:\\users\\user\\anaconda3\\lib\\site-packages (from kaggle) (1.16.0)\n",
      "Requirement already satisfied: certifi in c:\\users\\user\\anaconda3\\lib\\site-packages (from kaggle) (2023.7.22)\n",
      "Requirement already satisfied: python-dateutil in c:\\users\\user\\anaconda3\\lib\\site-packages (from kaggle) (2.8.2)\n",
      "Requirement already satisfied: requests in c:\\users\\user\\anaconda3\\lib\\site-packages (from kaggle) (2.31.0)\n",
      "Requirement already satisfied: tqdm in c:\\users\\user\\anaconda3\\lib\\site-packages (from kaggle) (4.65.0)\n",
      "Requirement already satisfied: python-slugify in c:\\users\\user\\anaconda3\\lib\\site-packages (from kaggle) (5.0.2)\n",
      "Requirement already satisfied: urllib3 in c:\\users\\user\\anaconda3\\lib\\site-packages (from kaggle) (1.26.16)\n",
      "Requirement already satisfied: bleach in c:\\users\\user\\anaconda3\\lib\\site-packages (from kaggle) (4.1.0)\n",
      "Requirement already satisfied: packaging in c:\\users\\user\\anaconda3\\lib\\site-packages (from bleach->kaggle) (23.0)\n",
      "Requirement already satisfied: webencodings in c:\\users\\user\\anaconda3\\lib\\site-packages (from bleach->kaggle) (0.5.1)\n",
      "Requirement already satisfied: text-unidecode>=1.3 in c:\\users\\user\\anaconda3\\lib\\site-packages (from python-slugify->kaggle) (1.3)\n",
      "Requirement already satisfied: charset-normalizer<4,>=2 in c:\\users\\user\\anaconda3\\lib\\site-packages (from requests->kaggle) (2.0.4)\n",
      "Requirement already satisfied: idna<4,>=2.5 in c:\\users\\user\\anaconda3\\lib\\site-packages (from requests->kaggle) (3.4)\n",
      "Requirement already satisfied: colorama in c:\\users\\user\\anaconda3\\lib\\site-packages (from tqdm->kaggle) (0.4.6)\n"
     ]
    }
   ],
   "source": [
    "!pip install kaggle"
   ]
  },
  {
   "cell_type": "code",
   "execution_count": 4,
   "id": "82ed87c0",
   "metadata": {},
   "outputs": [],
   "source": [
    "import kaggle\n",
    "import pandas as pd"
   ]
  },
  {
   "cell_type": "code",
   "execution_count": 5,
   "id": "0d482f83",
   "metadata": {},
   "outputs": [
    {
     "name": "stdout",
     "output_type": "stream",
     "text": [
      "^C\n"
     ]
    }
   ],
   "source": [
    "!kaggle datasets download -d dheemanthbhat/stack-overflow-annual-developer-survey-2022"
   ]
  },
  {
   "cell_type": "code",
   "execution_count": 32,
   "id": "72670e21",
   "metadata": {},
   "outputs": [],
   "source": [
    "df = pd.read_csv('survey_results_public.csv')"
   ]
  },
  {
   "cell_type": "code",
   "execution_count": 33,
   "id": "88e6b5c2",
   "metadata": {},
   "outputs": [],
   "source": [
    "df = df.drop_duplicates()"
   ]
  },
  {
   "cell_type": "code",
   "execution_count": 34,
   "id": "fc494f6c",
   "metadata": {},
   "outputs": [
    {
     "data": {
      "text/plain": [
       "dtype('O')"
      ]
     },
     "execution_count": 34,
     "metadata": {},
     "output_type": "execute_result"
    }
   ],
   "source": [
    "df.YearsCodePro.dtype"
   ]
  },
  {
   "cell_type": "code",
   "execution_count": 35,
   "id": "7ffa46e7",
   "metadata": {},
   "outputs": [
    {
     "data": {
      "text/plain": [
       "dtype('float64')"
      ]
     },
     "execution_count": 35,
     "metadata": {},
     "output_type": "execute_result"
    }
   ],
   "source": [
    "df.CompTotal.dtype"
   ]
  },
  {
   "cell_type": "code",
   "execution_count": 88,
   "id": "f9e6bc29",
   "metadata": {},
   "outputs": [
    {
     "name": "stdout",
     "output_type": "stream",
     "text": [
      "Women's average sallary: 142368 USD, Men's average sallary 152068 USD\n"
     ]
    }
   ],
   "source": [
    "# This shows the difference between women and men sallary\n",
    "# I just used a minimum of 10000 and maximum 1 million and I picked only sallary in USD\n",
    "# And there were some problem if I try to compare currency to 'USD United States dollar' so again instead of cleaning data\n",
    "# I just look at first 3 letters and check if it's 'USD'\n",
    "# I picked only full-time employers to make results fair\n",
    "\n",
    "women_salary = 0\n",
    "women_count = 0\n",
    "men_salary = 0\n",
    "men_count = 0\n",
    "\n",
    "for i in range(len(df['Gender'])):\n",
    "    if df['Gender'][i] == 'Woman' and 10000 < df['ConvertedCompYearly'][i] < 1000000 and df['ConvertedCompYearly'][i] != 'NaN' and df['Currency'][i][:3] == 'USD' and df['Employment'][i][:19] == 'Employed, full-time':\n",
    "        women_salary += int(df['ConvertedCompYearly'][i])\n",
    "        women_count += 1\n",
    "        \n",
    "    if df['Gender'][i] == 'Man' and 10000 < df['ConvertedCompYearly'][i] < 1000000 and df['ConvertedCompYearly'][i] != 'NaN' and df['Currency'][i][:3] == 'USD' and df['Employment'][i][:19] == 'Employed, full-time':\n",
    "        men_salary += int(df['ConvertedCompYearly'][i])\n",
    "        men_count += 1\n",
    "        \n",
    "print(f\"Women's average sallary: {int(women_salary/women_count)} USD, Men's average sallary {int(men_salary/men_count)} USD\")"
   ]
  },
  {
   "cell_type": "code",
   "execution_count": 37,
   "id": "83eaa49f",
   "metadata": {},
   "outputs": [
    {
     "name": "stdout",
     "output_type": "stream",
     "text": [
      "19\n"
     ]
    }
   ],
   "source": [
    "print(len('Employed, full-time'))"
   ]
  },
  {
   "cell_type": "code",
   "execution_count": 90,
   "id": "450926ee",
   "metadata": {},
   "outputs": [
    {
     "name": "stdout",
     "output_type": "stream",
     "text": [
      "Avg. in-person salary: 130479USD, Avg. hybrid salary: 139101USD, Avg. remote salary 144764USD\n"
     ]
    }
   ],
   "source": [
    "inperson_salary, inperson_count = 0, 0\n",
    "hybrid_salary, hybrid_count = 0, 0\n",
    "remote_salary, remote_count = 0, 0\n",
    "\n",
    "for i in range(len(df['ConvertedCompYearly'])):\n",
    "    if df['Gender'][i] == 'Woman' and 10000 < df['ConvertedCompYearly'][i] < 1000000 and df['ConvertedCompYearly'][i] != 'NaN' and df['Currency'][i][:3] == 'USD' and df['Employment'][i][:19] == 'Employed, full-time' and df['RemoteWork'][i].split(' ')[1] == 'in-person':\n",
    "        inperson_salary += int(df['ConvertedCompYearly'][i])\n",
    "        inperson_count += 1\n",
    "    if df['Gender'][i] == 'Woman' and 10000 < df['ConvertedCompYearly'][i] < 1000000 and df['ConvertedCompYearly'][i] != 'NaN' and df['Currency'][i][:3] == 'USD' and df['Employment'][i][:19] == 'Employed, full-time' and df['RemoteWork'][i].split(' ')[0] == 'Hybrid':\n",
    "        hybrid_salary += int(df['ConvertedCompYearly'][i])\n",
    "        hybrid_count += 1\n",
    "    if df['Gender'][i] == 'Woman' and 10000 < df['ConvertedCompYearly'][i] < 1000000 and df['ConvertedCompYearly'][i] != 'NaN' and df['Currency'][i][:3] == 'USD' and df['Employment'][i][:19] == 'Employed, full-time' and df['RemoteWork'][i].split(' ')[1] == 'remote':\n",
    "        remote_salary += int(df['ConvertedCompYearly'][i])\n",
    "        remote_count += 1\n",
    "\n",
    "print(f\"Avg. in-person salary: {int(inperson_salary/inperson_count)}USD, Avg. hybrid salary: {int(hybrid_salary/hybrid_count)}USD, Avg. remote salary {int(remote_salary/remote_count)}USD\")"
   ]
  },
  {
   "cell_type": "code",
   "execution_count": 39,
   "id": "f7bdd7ba",
   "metadata": {},
   "outputs": [],
   "source": [
    "# what we see is that salary of people working full in-person is definitely lower than others\n",
    "# but it's not so clear that working full in-person is less profitable than other possibilites\n",
    "# because in a lot of companies, people with the lowest experience/interns have to work full in-person\n",
    "# and people with higher experience can choose where they want to work from\n",
    "# so to make it clear I will pick only people with 'YearsCodePro' higher than 4 years"
   ]
  },
  {
   "cell_type": "code",
   "execution_count": 40,
   "id": "93b02a46",
   "metadata": {},
   "outputs": [
    {
     "name": "stdout",
     "output_type": "stream",
     "text": [
      "{'32', '5', '7', '13', '20', '23', '15', '19', '18', '38', '31', 'More than 50 years', '39', '12', '34', '16', '40', '45', '27', '24', '44', '29', '1', '37', '41', '3', '6', '14', '4', '46', '9', '30', '43', '21', '47', '17', '35', '33', nan, '8', '22', '25', '50', '42', '49', '2', '28', '26', 'Less than 1 year', '10', '11', '48', '36'}\n"
     ]
    }
   ],
   "source": [
    "values = set()\n",
    "for value in df['YearsCodePro']:\n",
    "    if value not in values:\n",
    "        values.add(value)\n",
    "\n",
    "print(values)"
   ]
  },
  {
   "cell_type": "code",
   "execution_count": 52,
   "id": "81d53992",
   "metadata": {},
   "outputs": [],
   "source": [
    "# clean values for the purpose of this task, I change 'less than 1 year' into '1' and 'more than 50 years' into '50'\n",
    "# which is enough for me\n",
    "df['YearsCodePro'] = df['YearsCodePro'].str.replace('[^0-9]','', regex=True)"
   ]
  },
  {
   "cell_type": "code",
   "execution_count": 65,
   "id": "d7c575a9",
   "metadata": {},
   "outputs": [
    {
     "name": "stdout",
     "output_type": "stream",
     "text": [
      "{'32', '5', '7', '13', '20', '23', '15', '19', '18', '38', '31', '39', '12', '34', '16', '40', '45', '27', '24', '44', '29', '1', '37', '41', '3', '6', '14', '4', '46', '9', '30', '43', '21', '47', '17', '35', '33', nan, '8', '22', '25', '50', '42', '49', '2', '28', '26', '10', '11', '48', '36'}\n"
     ]
    }
   ],
   "source": [
    "values = set()\n",
    "for value in df['YearsCodePro']:\n",
    "    if value not in values and value != \"NaN\":\n",
    "        values.add(value)\n",
    "\n",
    "print(values)"
   ]
  },
  {
   "cell_type": "code",
   "execution_count": 97,
   "id": "219eed6a",
   "metadata": {},
   "outputs": [
    {
     "name": "stdout",
     "output_type": "stream",
     "text": [
      "Avg. in-person salary: 135406USD and avg in-person years of coding as a pro: 14.53 years\n",
      "Avg. hybrid salary: 165517USD and avg hybrid years of coding as a pro: 13.86 years\n",
      "Avg. remote salary 162372USD and avg remote years of coding as a pro: 14.23 years\n"
     ]
    }
   ],
   "source": [
    "inperson_salary, inperson_count, inperson_years_code_pro = 0, 0, 0\n",
    "hybrid_salary, hybrid_count, hybrid_years_code_pro = 0, 0, 0\n",
    "remote_salary, remote_count, remote_years_code_pro = 0, 0, 0\n",
    "\n",
    "for i in range(len(df['ConvertedCompYearly'])):\n",
    "    if 10000 < df['ConvertedCompYearly'][i] < 1000000 and df['ConvertedCompYearly'][i] != 'NaN' and df['Currency'][i][:3] == 'USD' and df['Employment'][i][:19] == 'Employed, full-time' and df['RemoteWork'][i].split(' ')[1] == 'in-person' and float(df['YearsCodePro'][i]) > 4:\n",
    "        inperson_salary += int(df['CompTotal'][i])\n",
    "        inperson_count += 1\n",
    "        inperson_years_code_pro += int(df['YearsCodePro'][i])\n",
    "            \n",
    "    if 10000 < df['ConvertedCompYearly'][i] < 1000000 and df['ConvertedCompYearly'][i] != 'NaN' and df['Currency'][i][:3] == 'USD' and df['Employment'][i][:19] == 'Employed, full-time' and df['RemoteWork'][i].split(' ')[0] == 'Hybrid' and float(df['YearsCodePro'][i]) > 4:\n",
    "        hybrid_salary += int(df['CompTotal'][i])\n",
    "        hybrid_count += 1\n",
    "        hybrid_years_code_pro += int(df['YearsCodePro'][i])\n",
    "            \n",
    "    if 10000 < df['ConvertedCompYearly'][i] < 1000000 and df['ConvertedCompYearly'][i] != 'NaN' and df['Currency'][i][:3] == 'USD' and df['Employment'][i][:19] == 'Employed, full-time' and df['RemoteWork'][i].split(' ')[1] == 'remote' and float(df['YearsCodePro'][i]) > 4:\n",
    "        remote_salary += int(df['ConvertedCompYearly'][i])\n",
    "        remote_count += 1\n",
    "        remote_years_code_pro += int(df['YearsCodePro'][i])\n",
    "\n",
    "avg_inperson_salary = int(inperson_salary/inperson_count)        \n",
    "avg_hybrid_salary = int(hybrid_salary/hybrid_count)\n",
    "avg_remote_salary = int(remote_salary/remote_count)\n",
    "\n",
    "avg_inperson_years_code_pro = round(inperson_years_code_pro/inperson_count, 2)\n",
    "avg_hybrid_years_code_pro = round(hybrid_years_code_pro/hybrid_count, 2)\n",
    "avg_remote_years_code_pro = round(remote_years_code_pro/remote_count, 2)\n",
    "\n",
    "print(f\"Avg. in-person salary: {avg_inperson_salary}USD and avg in-person years of coding as a pro: {avg_inperson_years_code_pro} years\\n\"\n",
    "        f\"Avg. hybrid salary: {avg_hybrid_salary}USD and avg hybrid years of coding as a pro: {avg_hybrid_years_code_pro} years\\n\"\n",
    "        f\"Avg. remote salary {avg_remote_salary}USD and avg remote years of coding as a pro: {avg_remote_years_code_pro} years\")"
   ]
  },
  {
   "cell_type": "code",
   "execution_count": 96,
   "id": "84a001d5",
   "metadata": {},
   "outputs": [],
   "source": [
    "# it shows that people who work hybrid or fully remote earn over 20% more than people who work in-person\n",
    "# despite the fact that on average in-person workers code as a pro longer than the others"
   ]
  }
 ],
 "metadata": {
  "kernelspec": {
   "display_name": "Python 3 (ipykernel)",
   "language": "python",
   "name": "python3"
  },
  "language_info": {
   "codemirror_mode": {
    "name": "ipython",
    "version": 3
   },
   "file_extension": ".py",
   "mimetype": "text/x-python",
   "name": "python",
   "nbconvert_exporter": "python",
   "pygments_lexer": "ipython3",
   "version": "3.11.4"
  }
 },
 "nbformat": 4,
 "nbformat_minor": 5
}
